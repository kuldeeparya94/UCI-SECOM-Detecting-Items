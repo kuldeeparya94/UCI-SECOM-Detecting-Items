{
 "cells": [
  {
   "cell_type": "code",
   "execution_count": 1,
   "metadata": {
    "_cell_guid": "79c7e3d0-c299-4dcb-8224-4455121ee9b0",
    "_uuid": "d629ff2d2480ee46fbb7e2d37f6b5fab8052498a"
   },
   "outputs": [
    {
     "name": "stdout",
     "output_type": "stream",
     "text": [
      "(1567, 592)\n",
      "                  Time        0        1    ...         588       589  Pass/Fail\n",
      "0  2008-07-19 11:55:00  3030.93  2564.00    ...         NaN       NaN         -1\n",
      "1  2008-07-19 12:32:00  3095.78  2465.14    ...      0.0060  208.2045         -1\n",
      "2  2008-07-19 13:17:00  2932.61  2559.94    ...      0.0148   82.8602          1\n",
      "3  2008-07-19 14:43:00  2988.72  2479.90    ...      0.0044   73.8432         -1\n",
      "4  2008-07-19 15:22:00  3032.24  2502.87    ...      0.0044   73.8432         -1\n",
      "\n",
      "[5 rows x 592 columns]\n"
     ]
    }
   ],
   "source": [
    "import pandas as pd\n",
    "import numpy as np\n",
    "data = pd.read_csv('../input/uci-secom.csv')\n",
    "print(data.shape)\n",
    "print(data.head(5))\n",
    "import os"
   ]
  },
  {
   "cell_type": "code",
   "execution_count": 2,
   "metadata": {},
   "outputs": [
    {
     "data": {
      "text/plain": [
       "True"
      ]
     },
     "execution_count": 2,
     "metadata": {},
     "output_type": "execute_result"
    }
   ],
   "source": [
    "data.isnull().any().any()"
   ]
  },
  {
   "cell_type": "code",
   "execution_count": 3,
   "metadata": {},
   "outputs": [
    {
     "name": "stdout",
     "output_type": "stream",
     "text": [
      "85 1341\n",
      "109 1018\n",
      "110 1018\n",
      "111 1018\n",
      "157 1429\n",
      "158 1429\n",
      "220 1341\n",
      "244 1018\n",
      "245 1018\n",
      "246 1018\n",
      "292 1429\n",
      "293 1429\n",
      "358 1341\n",
      "382 1018\n",
      "383 1018\n",
      "384 1018\n",
      "492 1341\n",
      "516 1018\n",
      "517 1018\n",
      "518 1018\n",
      "578 949\n",
      "579 949\n",
      "580 949\n",
      "581 949\n"
     ]
    }
   ],
   "source": [
    "d = data.isnull().sum()\n",
    "j = []\n",
    "for i in d.keys():\n",
    "    if(d[i] >900):\n",
    "        print(i, d[i])\n",
    "        j.append(i)"
   ]
  },
  {
   "cell_type": "code",
   "execution_count": 4,
   "metadata": {},
   "outputs": [],
   "source": [
    "data.drop(j, axis = 1, inplace = True)"
   ]
  },
  {
   "cell_type": "code",
   "execution_count": 5,
   "metadata": {},
   "outputs": [
    {
     "data": {
      "text/plain": [
       "False"
      ]
     },
     "execution_count": 5,
     "metadata": {},
     "output_type": "execute_result"
    }
   ],
   "source": [
    "data.replace(np.nan, 0, inplace = True)\n",
    "#from sklearn.preprocessing import Imputer\n",
    "#imputer = Imputer(missing_values = np.nan, strategy = 'mean')\n",
    "data.isnull().any().any()"
   ]
  },
  {
   "cell_type": "code",
   "execution_count": 6,
   "metadata": {},
   "outputs": [],
   "source": [
    "from sklearn.preprocessing import Imputer \n",
    "from sklearn.model_selection import train_test_split\n",
    "from sklearn.ensemble import RandomForestClassifier,IsolationForest\n",
    "from sklearn.linear_model import LogisticRegression\n",
    "from sklearn.preprocessing import StandardScaler\n",
    "import xgboost as xgb\n",
    "from sklearn.metrics import confusion_matrix, accuracy_score, f1_score, precision_score, recall_score, average_precision_score\n"
   ]
  },
  {
   "cell_type": "code",
   "execution_count": 7,
   "metadata": {},
   "outputs": [
    {
     "data": {
      "text/plain": [
       "-1    1463\n",
       " 1     104\n",
       "Name: Pass/Fail, dtype: int64"
      ]
     },
     "execution_count": 7,
     "metadata": {},
     "output_type": "execute_result"
    }
   ],
   "source": [
    "data['Pass/Fail'].value_counts()#-1 is pass and 1 is fail"
   ]
  },
  {
   "cell_type": "code",
   "execution_count": 8,
   "metadata": {},
   "outputs": [
    {
     "name": "stderr",
     "output_type": "stream",
     "text": [
      "/opt/conda/lib/python3.6/site-packages/sklearn/model_selection/_split.py:2179: FutureWarning: From version 0.21, test_size will always complement train_size unless both are specified.\n",
      "  FutureWarning)\n"
     ]
    }
   ],
   "source": [
    "x = data.iloc[:, 1:-1]\n",
    "y = data.iloc[:, -1]\n",
    "x_train, x_test, y_train, y_test = train_test_split(x, y, train_size = 0.7, random_state = 0)"
   ]
  },
  {
   "cell_type": "code",
   "execution_count": 9,
   "metadata": {},
   "outputs": [
    {
     "name": "stdout",
     "output_type": "stream",
     "text": [
      "(1096, 566)\n",
      "(471, 566)\n",
      "(1567, 568)\n"
     ]
    }
   ],
   "source": [
    "print(x_train.shape)\n",
    "print(x_test.shape)\n",
    "print(data.shape)"
   ]
  },
  {
   "cell_type": "code",
   "execution_count": 10,
   "metadata": {},
   "outputs": [
    {
     "data": {
      "text/plain": [
       "RangeIndex(start=0, stop=1567, step=1)"
      ]
     },
     "execution_count": 10,
     "metadata": {},
     "output_type": "execute_result"
    }
   ],
   "source": [
    "(data['Pass/Fail'] == 1).index\n"
   ]
  },
  {
   "cell_type": "code",
   "execution_count": 11,
   "metadata": {},
   "outputs": [],
   "source": [
    "sc = StandardScaler()\n",
    "x_train_std = sc.fit_transform(x_train)\n",
    "x_test_std = sc.transform(x_test)"
   ]
  },
  {
   "cell_type": "code",
   "execution_count": 12,
   "metadata": {},
   "outputs": [
    {
     "name": "stderr",
     "output_type": "stream",
     "text": [
      "/opt/conda/lib/python3.6/site-packages/sklearn/linear_model/logistic.py:433: FutureWarning: Default solver will be changed to 'lbfgs' in 0.22. Specify a solver to silence this warning.\n",
      "  FutureWarning)\n"
     ]
    },
    {
     "name": "stdout",
     "output_type": "stream",
     "text": [
      "accuracy score 0.8428874734607219\n",
      "precision_score 0.14716984611169942\n",
      "recall_score 0.11290322580645161\n",
      "f1_score 0.1590909090909091\n"
     ]
    }
   ],
   "source": [
    "lr = LogisticRegression(C = 1000, penalty = 'l2')\n",
    "lr.fit(x_train_std, y_train)\n",
    "y_pred_lr = lr.predict(x_test_std)\n",
    "print('accuracy score', accuracy_score(y_pred_lr, y_test))\n",
    "cm = confusion_matrix(y_pred_lr, y_test)\n",
    "print('precision_score', average_precision_score(y_pred_lr, y_test))\n",
    "print('recall_score', recall_score(y_pred_lr, y_test))\n",
    "print('f1_score',f1_score(y_pred_lr,y_test))"
   ]
  },
  {
   "cell_type": "code",
   "execution_count": 13,
   "metadata": {},
   "outputs": [],
   "source": []
  },
  {
   "cell_type": "code",
   "execution_count": 13,
   "metadata": {},
   "outputs": [
    {
     "data": {
      "text/plain": [
       "-445"
      ]
     },
     "execution_count": 13,
     "metadata": {},
     "output_type": "execute_result"
    }
   ],
   "source": [
    "y_test[y_test == -1].sum()"
   ]
  },
  {
   "cell_type": "code",
   "execution_count": 14,
   "metadata": {},
   "outputs": [
    {
     "name": "stderr",
     "output_type": "stream",
     "text": [
      "/opt/conda/lib/python3.6/site-packages/sklearn/ensemble/iforest.py:213: FutureWarning: default contamination parameter 0.1 will change in version 0.22 to \"auto\". This will change the predict method behavior.\n",
      "  FutureWarning)\n",
      "/opt/conda/lib/python3.6/site-packages/sklearn/ensemble/iforest.py:223: FutureWarning: behaviour=\"old\" is deprecated and will be removed in version 0.22. Please use behaviour=\"new\", which makes the decision_function change to match other anomaly detection algorithm API.\n",
      "  FutureWarning)\n"
     ]
    },
    {
     "name": "stdout",
     "output_type": "stream",
     "text": [
      "accuracy score 0.14012738853503184\n",
      "precision_score 0.895388043917655\n",
      "recall_score 0.05200945626477541\n",
      "f1_score 0.0979955456570156\n"
     ]
    },
    {
     "name": "stderr",
     "output_type": "stream",
     "text": [
      "/opt/conda/lib/python3.6/site-packages/sklearn/ensemble/iforest.py:417: DeprecationWarning: threshold_ attribute is deprecated in 0.20 and will be removed in 0.22.\n",
      "  \" be removed in 0.22.\", DeprecationWarning)\n"
     ]
    }
   ],
   "source": [
    "isolation = IsolationForest()\n",
    "isolation.fit(x_train_std, y_train)\n",
    "y_pred_iso = isolation.predict(x_test_std)\n",
    "print('accuracy score', accuracy_score(y_pred_iso, y_test))\n",
    "cmiso = confusion_matrix(y_pred_iso, y_test)\n",
    "print('precision_score', average_precision_score(y_pred_iso, y_test))\n",
    "print('recall_score', recall_score(y_pred_iso, y_test))\n",
    "print('f1_score',f1_score(y_pred_iso,y_test))"
   ]
  },
  {
   "cell_type": "code",
   "execution_count": 15,
   "metadata": {},
   "outputs": [
    {
     "data": {
      "text/plain": [
       "array([[ 44,   4],\n",
       "       [401,  22]])"
      ]
     },
     "execution_count": 15,
     "metadata": {},
     "output_type": "execute_result"
    }
   ],
   "source": [
    "cmiso"
   ]
  },
  {
   "cell_type": "code",
   "execution_count": 16,
   "metadata": {},
   "outputs": [
    {
     "name": "stdout",
     "output_type": "stream",
     "text": [
      "0.8461538461538461\n"
     ]
    }
   ],
   "source": [
    "print(cmiso[1][1]/ (cmiso[1][1] + cmiso[0][1]))"
   ]
  },
  {
   "cell_type": "code",
   "execution_count": 17,
   "metadata": {},
   "outputs": [
    {
     "name": "stderr",
     "output_type": "stream",
     "text": [
      "/opt/conda/lib/python3.6/site-packages/sklearn/ensemble/forest.py:246: FutureWarning: The default value of n_estimators will change from 10 in version 0.20 to 100 in 0.22.\n",
      "  \"10 in version 0.20 to 100 in 0.22.\", FutureWarning)\n"
     ]
    },
    {
     "name": "stdout",
     "output_type": "stream",
     "text": [
      "accuracy score 0.9426751592356688\n",
      "confusion_matrix [[444  26]\n",
      " [  1   0]]\n",
      "precision_score 0.0021231422505307855\n"
     ]
    }
   ],
   "source": [
    "forest = RandomForestClassifier()\n",
    "forest.fit(x_train_std, y_train)\n",
    "y_pred_rf = forest.predict(x_test_std)\n",
    "print('accuracy score', accuracy_score(y_pred_rf, y_test))\n",
    "print('confusion_matrix', confusion_matrix(y_pred_rf, y_test))\n",
    "print('precision_score', average_precision_score(y_pred_rf, y_test))"
   ]
  },
  {
   "cell_type": "code",
   "execution_count": 18,
   "metadata": {},
   "outputs": [
    {
     "data": {
      "text/plain": [
       "26"
      ]
     },
     "execution_count": 18,
     "metadata": {},
     "output_type": "execute_result"
    }
   ],
   "source": [
    "y_test[y_test == 1].sum()"
   ]
  },
  {
   "cell_type": "code",
   "execution_count": 19,
   "metadata": {},
   "outputs": [
    {
     "name": "stdout",
     "output_type": "stream",
     "text": [
      "accuracy score 0.9426751592356688\n",
      "confusion_matrix [[444  26]\n",
      " [  1   0]]\n",
      "precision_score 0.0021231422505307855\n"
     ]
    }
   ],
   "source": [
    "xgb1 = xgb.XGBClassifier(objective = 'binary:logistic', booster = 'gblinear')\n",
    "xgb1.fit(x_train_std, y_train)\n",
    "y_pred_xgb = xgb1.predict(x_test_std)\n",
    "print('accuracy score', accuracy_score(y_pred_xgb, y_test))\n",
    "print('confusion_matrix', confusion_matrix(y_pred_xgb, y_test))\n",
    "print('precision_score', average_precision_score(y_pred_xgb, y_test))\n"
   ]
  },
  {
   "cell_type": "code",
   "execution_count": 20,
   "metadata": {},
   "outputs": [
    {
     "name": "stderr",
     "output_type": "stream",
     "text": [
      "/opt/conda/lib/python3.6/site-packages/sklearn/linear_model/logistic.py:433: FutureWarning: Default solver will be changed to 'lbfgs' in 0.22. Specify a solver to silence this warning.\n",
      "  FutureWarning)\n"
     ]
    },
    {
     "name": "stdout",
     "output_type": "stream",
     "text": [
      "accuracy score 0.8662420382165605\n",
      "confusion_matrix [[403  21]\n",
      " [ 42   5]]\n",
      "precision_score 0.1096302396614092\n"
     ]
    }
   ],
   "source": [
    "from sklearn.model_selection import GridSearchCV\n",
    "param_grid = {\n",
    "    'C':[5, 10, 250, 100, 500],\n",
    "    'penalty':['l1', 'l2']\n",
    "}\n",
    "gslr = GridSearchCV(estimator = lr, param_grid = param_grid, n_jobs = -1, cv = 10)\n",
    "gslr.fit(x_train_std, y_train)\n",
    "y_pred_gslr = gslr.predict(x_test_std)\n",
    "print('accuracy score', accuracy_score(y_pred_gslr, y_test))\n",
    "print('confusion_matrix', confusion_matrix(y_pred_gslr, y_test))\n",
    "print('precision_score', average_precision_score(y_pred_gslr, y_test))"
   ]
  },
  {
   "cell_type": "code",
   "execution_count": 21,
   "metadata": {},
   "outputs": [
    {
     "name": "stdout",
     "output_type": "stream",
     "text": [
      "confusion_matrix [[403  21]\n",
      " [ 42   5]]\n"
     ]
    }
   ],
   "source": [
    "print('confusion_matrix', confusion_matrix(y_pred_gslr, y_test))"
   ]
  },
  {
   "cell_type": "code",
   "execution_count": 22,
   "metadata": {},
   "outputs": [
    {
     "name": "stdout",
     "output_type": "stream",
     "text": [
      "accuracy score 0.9447983014861996\n",
      "confusion_matrix [[445  26]\n",
      " [  0   0]]\n",
      "precision_score nan\n"
     ]
    },
    {
     "name": "stderr",
     "output_type": "stream",
     "text": [
      "/opt/conda/lib/python3.6/site-packages/sklearn/metrics/ranking.py:526: RuntimeWarning: invalid value encountered in true_divide\n",
      "  recall = tps / tps[-1]\n"
     ]
    }
   ],
   "source": [
    "parameters = { 'max_features':np.arange(5,10),'n_estimators':[500],'min_samples_leaf': [10,50,100,200,500]}\n",
    "\n",
    "random_grid = GridSearchCV(forest, parameters, cv = 5)\n",
    "random_grid.fit(x_train_std, y_train)\n",
    "y_pred_gslr = random_grid.predict(x_test_std)\n",
    "print('accuracy score', accuracy_score(y_pred_gslr, y_test))\n",
    "print('confusion_matrix', confusion_matrix(y_pred_gslr, y_test))\n",
    "print('precision_score', average_precision_score(y_pred_gslr, y_test))\n"
   ]
  },
  {
   "cell_type": "code",
   "execution_count": 23,
   "metadata": {},
   "outputs": [
    {
     "name": "stdout",
     "output_type": "stream",
     "text": [
      "accuracy score 0.8832271762208068\n",
      "confusion_matrix [[411  21]\n",
      " [ 34   5]]\n",
      "precision_score 0.09684166886518675\n",
      "recall_score 0.1282051282051282\n",
      "f1_score 0.15384615384615385\n"
     ]
    },
    {
     "name": "stderr",
     "output_type": "stream",
     "text": [
      "/opt/conda/lib/python3.6/site-packages/sklearn/discriminant_analysis.py:388: UserWarning: Variables are collinear.\n",
      "  warnings.warn(\"Variables are collinear.\")\n"
     ]
    }
   ],
   "source": [
    "from sklearn.discriminant_analysis import LinearDiscriminantAnalysis\n",
    "lda = LinearDiscriminantAnalysis()\n",
    "lda.fit(x_train_std, y_train)\n",
    "y_pred_lda = lda.predict(x_test_std)\n",
    "print('accuracy score', accuracy_score(y_pred_lda, y_test))\n",
    "print('confusion_matrix', confusion_matrix(y_pred_lda, y_test))\n",
    "print('precision_score', average_precision_score(y_pred_lda, y_test))\n",
    "print('recall_score', recall_score(y_pred_lda, y_test))\n",
    "print('f1_score',f1_score(y_pred_lda,y_test))"
   ]
  },
  {
   "cell_type": "code",
   "execution_count": 24,
   "metadata": {},
   "outputs": [],
   "source": []
  }
 ],
 "metadata": {
  "kernelspec": {
   "display_name": "Python 3",
   "language": "python",
   "name": "python3"
  },
  "language_info": {
   "codemirror_mode": {
    "name": "ipython",
    "version": 3
   },
   "file_extension": ".py",
   "mimetype": "text/x-python",
   "name": "python",
   "nbconvert_exporter": "python",
   "pygments_lexer": "ipython3",
   "version": "3.6.4"
  }
 },
 "nbformat": 4,
 "nbformat_minor": 1
}
